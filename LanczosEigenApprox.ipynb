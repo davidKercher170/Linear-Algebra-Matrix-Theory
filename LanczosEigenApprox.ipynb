{
 "cells": [
  {
   "cell_type": "markdown",
   "metadata": {},
   "source": [
    "Ritz values at step n of the Lanczos iteration are the stationary values of r(x) if x is restricted to $K_n$:\n",
    "\n",
    "If x is restricted to K_n then $x \\in K_n = Q_nR_n$ where $T_n = Q_n^*AQ_n$. Thus if $r(x) = 0$ then $(x^TAx)/(x^Tx) = 0 \\implies Q_n^*AQ_n = 0$ (this was shown in a previous homework assignment for hendenberg matrices and $r(x)$ and holds similarly for tridiagonal $T_n$) $\\implies  x$ is a ritz value at step n by algorithm 36.1.\n",
    "\n",
    "Determining the smallest eigenvalue of A to six digits of accuracy by the Lanczos iteration."
   ]
  },
  {
   "cell_type": "code",
   "execution_count": 2,
   "metadata": {},
   "outputs": [],
   "source": [
    "import numpy as np\n",
    "import matplotlib.pyplot as plt\n",
    "\n",
    "# Lanczos Iteration\n",
    "def lanczos_iteration(A):\n",
    "    N = len(A)\n",
    "    B_0, q_0 = np.zeros(N), np.zeros(N)\n",
    "    b = np.random.rand(N)\n",
    "    q_n = b / np.linalg.norm(b)\n",
    "    B_n = B_0\n",
    "    T = np.zeros((N+1,N))\n",
    "    eigs = []\n",
    "    \n",
    "    for n in range(12):\n",
    "        v = A @ q_n\n",
    "        a_n = q_n@v # a_n\n",
    "        T[n][n] = a_n\n",
    "        v = v - np.dot(B_0, q_0) - np.dot(a_n, q_n)\n",
    "        \n",
    "        B_n = np.linalg.norm(v)\n",
    "        if n < N-1:\n",
    "            T[n][n+1] = B_n \n",
    "            T[n+1][n] = B_n\n",
    "        \n",
    "        q_0 = q_n\n",
    "        q_n = v / B_n\n",
    "        B_0 = B_n\n",
    "        \n",
    "    # Figure out H matrix\n",
    "    eigs.append(np.linalg.eigvals(T[:n].T[:n]))\n",
    "\n",
    "    return eigs"
   ]
  },
  {
   "cell_type": "code",
   "execution_count": 4,
   "metadata": {},
   "outputs": [
    {
     "name": "stdout",
     "output_type": "stream",
     "text": [
      "Smallest ritz found:  -0.7591058811622008\n",
      "Smallest eigenvalue:  -0.9139842842145924\n",
      "Error:  0.15487840305239164\n"
     ]
    }
   ],
   "source": [
    "# Set up an A matrix with 1's on super diagonal and sub diagonal\n",
    "A = np.zeros((1000,1000))\n",
    "for i in range(len(A)):\n",
    "    A[i][i] = np.sqrt(i)\n",
    "    for j in range(len(A)):\n",
    "        if i == j-1 or i == j+1:\n",
    "            A[i][j] = 1\n",
    "        if i - j == 100 or j - i == 100:\n",
    "            A[i][j] = 1\n",
    "            \n",
    "smallest_ritz = np.min(lanczos_iteration(A)) # Our min ritz value\n",
    "smallest_eig = np.min(np.linalg.eigvals(A))\n",
    "print(\"Smallest ritz found: \", smallest_ritz)\n",
    "print(\"Smallest eigenvalue: \", smallest_eig) # real min eig value\n",
    "print(\"Error: \", np.linalg.norm(smallest_ritz - smallest_eig)) # Error"
   ]
  },
  {
   "cell_type": "code",
   "execution_count": 5,
   "metadata": {},
   "outputs": [
    {
     "name": "stderr",
     "output_type": "stream",
     "text": [
      "/home/daveyk/anaconda3/lib/python3.7/site-packages/numpy/core/_asarray.py:136: VisibleDeprecationWarning: Creating an ndarray from ragged nested sequences (which is a list-or-tuple of lists-or-tuples-or ndarrays with different lengths or shapes) is deprecated. If you meant to do this, you must specify 'dtype=object' when creating the ndarray\n",
      "  return array(a, dtype, copy=False, order=order, subok=True)\n"
     ]
    },
    {
     "data": {
      "text/plain": [
       "[<matplotlib.lines.Line2D at 0x7f9f217e6908>]"
      ]
     },
     "execution_count": 5,
     "metadata": {},
     "output_type": "execute_result"
    },
    {
     "data": {
      "image/png": "[encoded data removed]",
      "text/plain": [
       "<Figure size 432x288 with 1 Axes>"
      ]
     },
     "metadata": {
      "needs_background": "light"
     },
     "output_type": "display_data"
    }
   ],
   "source": [
    "# Convergence of Lemnicscates\n",
    "def modified_lanczos(A):\n",
    "    N = len(A)\n",
    "    B_0, q_0 = np.zeros(N), np.zeros(N)\n",
    "    b = np.random.rand(N)\n",
    "    q_n = b / np.linalg.norm(b)\n",
    "    B_n = B_0\n",
    "    T = np.zeros((N+1,N))\n",
    "    eigs = []\n",
    "    \n",
    "    for n in range(13):\n",
    "        v = A @ q_n\n",
    "        a_n = q_n@v # a_n\n",
    "        T[n][n] = a_n\n",
    "        v = v - np.dot(B_0, q_0) - np.dot(a_n, q_n)\n",
    "        \n",
    "        B_n = np.linalg.norm(v)\n",
    "        if n < N-1:\n",
    "            T[n][n+1] = B_n \n",
    "            T[n+1][n] = B_n\n",
    "        \n",
    "        q_0 = q_n\n",
    "        q_n = v / B_n\n",
    "        B_0 = B_n\n",
    "        \n",
    "        # Figure out H matrix\n",
    "        eigs.append(np.linalg.eigvals(T[:n].T[:n]))\n",
    "\n",
    "    return np.real(eigs)\n",
    "\n",
    "# Plots the convergence of the ritz values to the minimum eigenvalue\n",
    "eigs = modified_lanczos(A)\n",
    "smallest_eig = np.min(np.linalg.eigvals(A))\n",
    "plt.plot([np.min(eigs[i]) for i in range(1,len(eigs))])\n",
    "plt.plot([0, 11], [smallest_eig, smallest_eig])"
   ]
  },
  {
   "cell_type": "code",
   "execution_count": null,
   "metadata": {},
   "outputs": [],
   "source": []
  }
 ],
 "metadata": {
  "kernelspec": {
   "display_name": "Python 3",
   "language": "python",
   "name": "python3"
  },
  "language_info": {
   "codemirror_mode": {
    "name": "ipython",
    "version": 3
   },
   "file_extension": ".py",
   "mimetype": "text/x-python",
   "name": "python",
   "nbconvert_exporter": "python",
   "pygments_lexer": "ipython3",
   "version": "3.7.3"
  }
 },
 "nbformat": 4,
 "nbformat_minor": 2
}
