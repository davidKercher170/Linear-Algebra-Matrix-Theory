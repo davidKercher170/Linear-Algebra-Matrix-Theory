{
 "cells": [
  {
   "cell_type": "markdown",
   "metadata": {},
   "source": [
    "David Kercher, Nov 12 2021\n",
    "\n",
    "Matrix Multiplication using Strassens Algorithm for faster computation."
   ]
  },
  {
   "cell_type": "code",
   "execution_count": 66,
   "metadata": {},
   "outputs": [],
   "source": [
    "import numpy as np\n",
    "\n",
    "def sm(A,B):\n",
    "\n",
    "    # Base Case, 2 x 2 Matrix\n",
    "    if len(A) == 2:\n",
    "        return np.array([[(A[0][0] + A[1][1])*(B[0][0]+B[1][1]) + A[1][1]*(B[1][0]-B[0][0]) - (A[0][0]+A[0][1])*B[1][1] + (A[0][1]-A[1][1])*(B[1][0]+B[1][1]), \n",
    "                   A[0][0]*(B[0][1] - B[1][1]) + (A[0][0]+A[0][1])*B[1][1]],\n",
    "                  [(A[1][0] + A[1][1])*B[0][0] + A[1][1]*(B[1][0]-B[0][0]), \n",
    "                   (A[0][0] + A[1][1])*(B[0][0]+B[1][1]) - (A[1][0] + A[1][1])*B[0][0] + A[0][0]*(B[0][1] - B[1][1]) + (A[1][0]-A[0][0])*(B[0][0]+B[0][1])]])\n",
    "    \n",
    "    # Recursive Step, A and B are 2^k dimensional matrices\n",
    "    else:\n",
    "        A_1, A_2, A_3, A_4 = sub_matrices(A)\n",
    "        B_1, B_2, B_3, B_4 = sub_matrices(B)\n",
    "\n",
    "        return np.vstack([np.hstack([sm(A_1+A_4, B_1+B_4) + sm(A_4, B_3-B_1) - sm(A_1+A_2, B_4) + sm(A_2-A_4, B_3+B_4), sm(A_1,B_2-B_4) + sm(A_1+A_2, B_4)]), \n",
    "                     np.hstack([sm(A_3+A_4, B_1) + sm(A_4, B_3-B_1), sm(A_1+A_4, B_1+B_4) - sm(A_3+A_4, B_1) + sm(A_1,B_2-B_4) + sm(A_3 - A_1, B_1 + B_2)])])\n",
    "    \n",
    "# returns A_1, A_2, A_3, A_4\n",
    "def sub_matrices(A):\n",
    "    return np.hsplit(np.vsplit(A, 2)[0], 2)[0], np.hsplit(np.vsplit(A, 2)[0], 2)[1], np.hsplit(np.vsplit(A, 2)[1], 2)[0], np.hsplit(np.vsplit(A, 2)[1], 2)[1]"
   ]
  },
  {
   "cell_type": "code",
   "execution_count": 68,
   "metadata": {},
   "outputs": [
    {
     "name": "stdout",
     "output_type": "stream",
     "text": [
      "Approximate Error:  4.359526761800664e-13\n",
      "AB using Strassens: \n",
      "[[8.24791855 6.67559104 9.3531669  ... 7.26695202 7.80138361 8.59493935]\n",
      " [8.18864659 7.21354252 8.96482375 ... 7.49994067 8.92178546 8.46522131]\n",
      " [7.83414183 7.69057819 8.65345902 ... 7.09272127 8.59392466 8.89903197]\n",
      " ...\n",
      " [8.67810122 6.60079573 8.5007169  ... 6.88216332 8.52965373 8.35958002]\n",
      " [7.34983747 7.6320347  8.03917518 ... 6.39931948 8.88188757 8.18935908]\n",
      " [8.48045171 7.98437571 9.50635482 ... 9.04513987 8.47587778 7.99269994]]\n",
      "AB using numpy matrix product: \n",
      "[[8.24791855 6.67559104 9.3531669  ... 7.26695202 7.80138361 8.59493935]\n",
      " [8.18864659 7.21354252 8.96482375 ... 7.49994067 8.92178546 8.46522131]\n",
      " [7.83414183 7.69057819 8.65345902 ... 7.09272127 8.59392466 8.89903197]\n",
      " ...\n",
      " [8.67810122 6.60079573 8.5007169  ... 6.88216332 8.52965373 8.35958002]\n",
      " [7.34983747 7.6320347  8.03917518 ... 6.39931948 8.88188757 8.18935908]\n",
      " [8.48045171 7.98437571 9.50635482 ... 9.04513987 8.47587778 7.99269994]]\n"
     ]
    }
   ],
   "source": [
    "# Numerical Evidence that the Program Works\n",
    "\n",
    "A = np.random.rand(32,32) # random 2^5, 2^5 matrix\n",
    "B = np.random.rand(32,32)\n",
    "print(\"Approximate Error: \", np.linalg.norm(sm(A,B) - A@B)) # Difference between calculation using Strassen's Formula and using numpy matrix multiplication\n",
    "print(\"AB using Strassens: \")\n",
    "print(sm(A,B)) # The matrix product using Strassen's Formula\n",
    "print(\"AB using numpy matrix product: \")\n",
    "print(A@B)"
   ]
  },
  {
   "cell_type": "code",
   "execution_count": null,
   "metadata": {},
   "outputs": [],
   "source": []
  }
 ],
 "metadata": {
  "kernelspec": {
   "display_name": "Python 3",
   "language": "python",
   "name": "python3"
  },
  "language_info": {
   "codemirror_mode": {
    "name": "ipython",
    "version": 3
   },
   "file_extension": ".py",
   "mimetype": "text/x-python",
   "name": "python",
   "nbconvert_exporter": "python",
   "pygments_lexer": "ipython3",
   "version": "3.7.3"
  }
 },
 "nbformat": 4,
 "nbformat_minor": 2
}
