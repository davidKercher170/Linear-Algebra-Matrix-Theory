{
 "cells": [
  {
   "cell_type": "code",
   "execution_count": 2,
   "metadata": {},
   "outputs": [],
   "source": [
    "# Find solution to least squares problem Ax = b\n",
    "# i.e. find the x vector that minimizes the residual ||Ax-b|| \n",
    "# Uses the Arnoldi Iteration, to find solution with asymptotic behavior O(m^2)\n",
    "# rather than the O(m^3) asyptotic a typical least squares approach would take\n",
    "import numpy as np\n",
    "\n",
    "def arnoldi(A):\n",
    "    N = len(A)\n",
    "    Q = np.zeros((N,N+1))\n",
    "    H = np.zeros((N+1,N))\n",
    "    b = np.random.rand(N) # random vector\n",
    "    eigs = []\n",
    "    Q.T[0] = b / np.linalg.norm(b)\n",
    "    \n",
    "    for n in range(30):\n",
    "        v = A @ Q.T[n]\n",
    "        \n",
    "        for j in range(n):\n",
    "            H[j][n] = Q.T[j]@v\n",
    "            v = v - H[j][n] *Q.T[j]\n",
    "        \n",
    "        H[n+1][n] = np.linalg.norm(v)\n",
    "        Q.T[n+1] = v / H[n+1][n]\n",
    "        \n",
    "        eigs.append(np.linalg.eigvals(H[:n].T[:n]))\n",
    "    \n",
    "    return np.real(eigs)\n",
    "\n",
    "def least_squares(X):\n",
    "    A = [[math.exp(x), math.sin(x), math.gamma(x)] for x in X] # matrix\n",
    "    # QR Factorization\n",
    "    Q, R = np.linalg.qr(A)[:2]\n",
    "\n",
    "    # Compute the vector Q*b\n",
    "    b = [f(x) for x in X] # our b vector\n",
    "    Qb =  Q.T@b # Compute vector\n",
    "\n",
    "    # Solve Upper-Triangular System Ry = Qb\n",
    "    c = np.linalg.solve(R, Qb)\n",
    "    \n",
    "    y = A@c\n",
    "    \n",
    "    \n",
    "    return y, c\n",
    "\n",
    "# The function we wish to approximate\n",
    "def f(x):\n",
    "    return 1 /x"
   ]
  }
 ],
 "metadata": {
  "kernelspec": {
   "display_name": "Python 3",
   "language": "python",
   "name": "python3"
  },
  "language_info": {
   "codemirror_mode": {
    "name": "ipython",
    "version": 3
   },
   "file_extension": ".py",
   "mimetype": "text/x-python",
   "name": "python",
   "nbconvert_exporter": "python",
   "pygments_lexer": "ipython3",
   "version": "3.7.3"
  }
 },
 "nbformat": 4,
 "nbformat_minor": 2
}
