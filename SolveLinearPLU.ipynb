{
 "cells": [
  {
   "cell_type": "code",
   "execution_count": 1,
   "metadata": {},
   "outputs": [],
   "source": [
    "# Solve a Linear System by computing square matrices P, L, U such that A = PLU\n",
    "\n",
    "# Some assumptions are made in the algorithm based on the fact that A is a square matrix (which implies that A is of full rank)\n",
    "# There are many ways this code could be improved and made more efficient\n",
    "\n",
    "import numpy as np"
   ]
  },
  {
   "cell_type": "code",
   "execution_count": 270,
   "metadata": {},
   "outputs": [],
   "source": [
    "# Returns a matrix P, L, U such that PA = LU\n",
    "# P - Permutation Matrix, L - Lower Triangular, U - Upper Triangular\n",
    "def get_LU(A):\n",
    "    m = len(A) # number of rows of A, A is square so this is the rank of A\n",
    "    \n",
    "    U = A.copy() # Initialize U our upper triangular matrix\n",
    "    L = np.identity(m) # Set L = I, L is our lower triangular matrix\n",
    "    P = np.identity(m) # Set P = I, P is our permutation matrix\n",
    "    \n",
    "    # loop from the first column/row to the last column/row\n",
    "    for k in range(0,m):\n",
    "        # find max subdiagonal value for column k\n",
    "        # I did this by taking the argmax (the max entry) of the kth column, kth row\n",
    "        # Added k at the end because the argmax will return the max entry in that column vector not in the matrix\n",
    "        i = np.argmax(np.abs(U.copy().T[k][k:])) + k\n",
    "        \n",
    "        U = switch_rows(U, k, i, k, m) # switch rows of U\n",
    "        L = switch_rows(L, k, i, 0, k) # switch rows of L\n",
    "        P = switch_rows(P, k, i, 0, m) # switch rows of P\n",
    "        \n",
    "                \n",
    "        # find new L_j,k and U_j,k:m\n",
    "        for j in range(k+1, m):\n",
    "            L[j][k] = U[j][k]/U[k][k]\n",
    "            U[j][k:m] = U[j][k:m] - L[j][k]*U[k][k:m]\n",
    "                \n",
    "    return P,L,U\n",
    "\n",
    "# Switches rows r_1, r_2 of given matrix B for columns c_1 through c_2\n",
    "# An example: switch_rows(U, k, i, k, m) would switch U_k,k:m with U_i,k:m (exactly what the first switch in algorithm 21.1 in the book describes)\n",
    "def switch_rows(B, r_1, r_2, c_1, c_2):\n",
    "    temp = B.copy()[r_1][c_1:c_2] # temporary row\n",
    "    B[r_1][c_1:c_2] = B[r_2][c_1:c_2] # first switch\n",
    "    B[r_2][c_1:c_2] = temp # second switch\n",
    "    return B"
   ]
  },
  {
   "cell_type": "code",
   "execution_count": 271,
   "metadata": {},
   "outputs": [],
   "source": [
    "# Solve a Linear System given the P, L, U matrices commuted in the previous block\n",
    "def solve_linear(P,L,U,b):\n",
    "    # To solve just mulitply on the left hand side by P and then by the inverse of L, then the inverse of U\n",
    "    # However we were given that A is a square matrix, it follows that L and U will be square matrices and\n",
    "    # we can simply take the inverse of each matrix since L and U cannot be singular (since they are full rank)\n",
    "\n",
    "    # P, L, U are all square matrices thus we can take the inverse of each matrix\n",
    "    # P is just the permutation matrix so we multiply b on the leftside by P\n",
    "    return np.linalg.inv(U)@ np.linalg.inv(L)@P@b"
   ]
  }
 ],
 "metadata": {
  "kernelspec": {
   "display_name": "Python 3",
   "language": "python",
   "name": "python3"
  },
  "language_info": {
   "codemirror_mode": {
    "name": "ipython",
    "version": 3
   },
   "file_extension": ".py",
   "mimetype": "text/x-python",
   "name": "python",
   "nbconvert_exporter": "python",
   "pygments_lexer": "ipython3",
   "version": "3.7.3"
  }
 },
 "nbformat": 4,
 "nbformat_minor": 2
}
