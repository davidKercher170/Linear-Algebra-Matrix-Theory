{
 "cells": [
  {
   "cell_type": "code",
   "execution_count": null,
   "metadata": {},
   "outputs": [],
   "source": [
    "# Stable QR Decomposition\n",
    "def QR_decomposition(A):\n",
    "    m, n = np.shape(A)\n",
    "    R = np.zeros((n,n))\n",
    "    Q = np.zeros((n,m))\n",
    "    \n",
    "    V = A.T.copy()\n",
    "    \n",
    "    for i in range(n):\n",
    "        R[i][i] = np.linalg.norm(V[i], ord=2)\n",
    "        Q[i] = V[i]/R[i][i]\n",
    "        \n",
    "        for j in range(i, n):\n",
    "            R[i][j] = Q[i]@V[j]\n",
    "            V[j] = V[j] - R[i][j]*Q[i]\n",
    "            \n",
    "    return Q.T, R"
   ]
  }
 ],
 "metadata": {
  "kernelspec": {
   "display_name": "Python 3",
   "language": "python",
   "name": "python3"
  },
  "language_info": {
   "codemirror_mode": {
    "name": "ipython",
    "version": 3
   },
   "file_extension": ".py",
   "mimetype": "text/x-python",
   "name": "python",
   "nbconvert_exporter": "python",
   "pygments_lexer": "ipython3",
   "version": "3.7.3"
  }
 },
 "nbformat": 4,
 "nbformat_minor": 2
}
